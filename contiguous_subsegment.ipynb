{
  "nbformat": 4,
  "nbformat_minor": 0,
  "metadata": {
    "colab": {
      "name": "contiguous subsegment",
      "provenance": [],
      "authorship_tag": "ABX9TyPpnd7VUeEY4dcS+a+YnqvW",
      "include_colab_link": true
    },
    "kernelspec": {
      "name": "python3",
      "display_name": "Python 3"
    }
  },
  "cells": [
    {
      "cell_type": "markdown",
      "metadata": {
        "id": "view-in-github",
        "colab_type": "text"
      },
      "source": [
        "<a href=\"https://colab.research.google.com/github/PuruBehl/houses/blob/master/contiguous_subsegment.ipynb\" target=\"_parent\"><img src=\"https://colab.research.google.com/assets/colab-badge.svg\" alt=\"Open In Colab\"/></a>"
      ]
    },
    {
      "cell_type": "code",
      "metadata": {
        "id": "zIC3LB8FDAhe",
        "colab_type": "code",
        "colab": {
          "base_uri": "https://localhost:8080/",
          "height": 134
        },
        "outputId": "78d0040f-0f8a-46ec-8bc8-900f29be0c02"
      },
      "source": [
        "def findOccurrences(s, ch):\n",
        "    return [i for i, letter in enumerate(s) if letter == ch]\n",
        "n=int(input())\n",
        "for i in range(n):\n",
        "  yourString=input()\n",
        "  l=findOccurrences(yourString, '1')\n",
        "  sum=0\n",
        "  for i in range(1,len(l)):\n",
        "    sum+=l[i]-l[i-1]-1\n",
        "  print(sum)"
      ],
      "execution_count": 3,
      "outputs": [
        {
          "output_type": "stream",
          "text": [
            "3\n",
            "010011\n",
            "2\n",
            "0\n",
            "0\n",
            "1111000\n",
            "0\n"
          ],
          "name": "stdout"
        }
      ]
    },
    {
      "cell_type": "code",
      "metadata": {
        "id": "MIi_Rx0ODUUq",
        "colab_type": "code",
        "colab": {}
      },
      "source": [
        ""
      ],
      "execution_count": 0,
      "outputs": []
    }
  ]
}