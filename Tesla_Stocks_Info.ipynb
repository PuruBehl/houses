{
  "nbformat": 4,
  "nbformat_minor": 0,
  "metadata": {
    "colab": {
      "name": "Tesla Stocks Info",
      "provenance": [],
      "authorship_tag": "ABX9TyPmHvQQ2PWZzLSGOGdLEQSA",
      "include_colab_link": true
    },
    "kernelspec": {
      "name": "python3",
      "display_name": "Python 3"
    }
  },
  "cells": [
    {
      "cell_type": "markdown",
      "metadata": {
        "id": "view-in-github",
        "colab_type": "text"
      },
      "source": [
        "<a href=\"https://colab.research.google.com/github/PuruBehl/houses/blob/master/Tesla_Stocks_Info.ipynb\" target=\"_parent\"><img src=\"https://colab.research.google.com/assets/colab-badge.svg\" alt=\"Open In Colab\"/></a>"
      ]
    },
    {
      "cell_type": "code",
      "metadata": {
        "id": "6K8CN-dczfkc",
        "colab_type": "code",
        "outputId": "03097b27-a5fb-4859-df6a-d97e69c825ed",
        "colab": {
          "base_uri": "https://localhost:8080/",
          "height": 34
        }
      },
      "source": [
        "from google.colab import drive\n",
        "drive.mount('/content/drive')"
      ],
      "execution_count": 84,
      "outputs": [
        {
          "output_type": "stream",
          "text": [
            "Drive already mounted at /content/drive; to attempt to forcibly remount, call drive.mount(\"/content/drive\", force_remount=True).\n"
          ],
          "name": "stdout"
        }
      ]
    },
    {
      "cell_type": "code",
      "metadata": {
        "id": "MSWF8pvVzgux",
        "colab_type": "code",
        "colab": {}
      },
      "source": [
        "import pandas as pd\n",
        "import numpy as np\n",
        "import matplotlib.pyplot as plt\n",
        "import seaborn as sns"
      ],
      "execution_count": 0,
      "outputs": []
    },
    {
      "cell_type": "code",
      "metadata": {
        "id": "ByrJn23X0CHf",
        "colab_type": "code",
        "colab": {}
      },
      "source": [
        "data=pd.read_csv('/content/drive/My Drive/tesla-stock-data-from-2010-to-2020/TSLA.csv')"
      ],
      "execution_count": 0,
      "outputs": []
    },
    {
      "cell_type": "code",
      "metadata": {
        "id": "IT_Rcerv2nGD",
        "colab_type": "code",
        "colab": {}
      },
      "source": [
        ""
      ],
      "execution_count": 0,
      "outputs": []
    },
    {
      "cell_type": "code",
      "metadata": {
        "id": "SstbAmfR0GDY",
        "colab_type": "code",
        "outputId": "9e49e77a-7713-4d35-b639-f6a183ec6fdf",
        "colab": {
          "base_uri": "https://localhost:8080/",
          "height": 195
        }
      },
      "source": [
        "data.head()"
      ],
      "execution_count": 87,
      "outputs": [
        {
          "output_type": "execute_result",
          "data": {
            "text/html": [
              "<div>\n",
              "<style scoped>\n",
              "    .dataframe tbody tr th:only-of-type {\n",
              "        vertical-align: middle;\n",
              "    }\n",
              "\n",
              "    .dataframe tbody tr th {\n",
              "        vertical-align: top;\n",
              "    }\n",
              "\n",
              "    .dataframe thead th {\n",
              "        text-align: right;\n",
              "    }\n",
              "</style>\n",
              "<table border=\"1\" class=\"dataframe\">\n",
              "  <thead>\n",
              "    <tr style=\"text-align: right;\">\n",
              "      <th></th>\n",
              "      <th>Date</th>\n",
              "      <th>Open</th>\n",
              "      <th>High</th>\n",
              "      <th>Low</th>\n",
              "      <th>Close</th>\n",
              "      <th>Adj Close</th>\n",
              "      <th>Volume</th>\n",
              "    </tr>\n",
              "  </thead>\n",
              "  <tbody>\n",
              "    <tr>\n",
              "      <th>0</th>\n",
              "      <td>2010-06-29</td>\n",
              "      <td>19.000000</td>\n",
              "      <td>25.00</td>\n",
              "      <td>17.540001</td>\n",
              "      <td>23.889999</td>\n",
              "      <td>23.889999</td>\n",
              "      <td>18766300</td>\n",
              "    </tr>\n",
              "    <tr>\n",
              "      <th>1</th>\n",
              "      <td>2010-06-30</td>\n",
              "      <td>25.790001</td>\n",
              "      <td>30.42</td>\n",
              "      <td>23.299999</td>\n",
              "      <td>23.830000</td>\n",
              "      <td>23.830000</td>\n",
              "      <td>17187100</td>\n",
              "    </tr>\n",
              "    <tr>\n",
              "      <th>2</th>\n",
              "      <td>2010-07-01</td>\n",
              "      <td>25.000000</td>\n",
              "      <td>25.92</td>\n",
              "      <td>20.270000</td>\n",
              "      <td>21.959999</td>\n",
              "      <td>21.959999</td>\n",
              "      <td>8218800</td>\n",
              "    </tr>\n",
              "    <tr>\n",
              "      <th>3</th>\n",
              "      <td>2010-07-02</td>\n",
              "      <td>23.000000</td>\n",
              "      <td>23.10</td>\n",
              "      <td>18.709999</td>\n",
              "      <td>19.200001</td>\n",
              "      <td>19.200001</td>\n",
              "      <td>5139800</td>\n",
              "    </tr>\n",
              "    <tr>\n",
              "      <th>4</th>\n",
              "      <td>2010-07-06</td>\n",
              "      <td>20.000000</td>\n",
              "      <td>20.00</td>\n",
              "      <td>15.830000</td>\n",
              "      <td>16.110001</td>\n",
              "      <td>16.110001</td>\n",
              "      <td>6866900</td>\n",
              "    </tr>\n",
              "  </tbody>\n",
              "</table>\n",
              "</div>"
            ],
            "text/plain": [
              "         Date       Open   High        Low      Close  Adj Close    Volume\n",
              "0  2010-06-29  19.000000  25.00  17.540001  23.889999  23.889999  18766300\n",
              "1  2010-06-30  25.790001  30.42  23.299999  23.830000  23.830000  17187100\n",
              "2  2010-07-01  25.000000  25.92  20.270000  21.959999  21.959999   8218800\n",
              "3  2010-07-02  23.000000  23.10  18.709999  19.200001  19.200001   5139800\n",
              "4  2010-07-06  20.000000  20.00  15.830000  16.110001  16.110001   6866900"
            ]
          },
          "metadata": {
            "tags": []
          },
          "execution_count": 87
        }
      ]
    },
    {
      "cell_type": "code",
      "metadata": {
        "id": "LYbsxXFM0Hl8",
        "colab_type": "code",
        "colab": {}
      },
      "source": [
        "X=data['Date'].values"
      ],
      "execution_count": 0,
      "outputs": []
    },
    {
      "cell_type": "code",
      "metadata": {
        "id": "wsKZDK5_1M8L",
        "colab_type": "code",
        "colab": {}
      },
      "source": [
        "p=[]\n",
        "for i in X:\n",
        "  s=i.split('-')\n",
        "  p.append(int(s[0]))\n",
        "data['Year']=p"
      ],
      "execution_count": 0,
      "outputs": []
    },
    {
      "cell_type": "code",
      "metadata": {
        "id": "wf2nEDQr1Yc7",
        "colab_type": "code",
        "outputId": "9546636f-daf5-463d-d94a-ce12befd74be",
        "colab": {
          "base_uri": "https://localhost:8080/",
          "height": 195
        }
      },
      "source": [
        "data.head()"
      ],
      "execution_count": 90,
      "outputs": [
        {
          "output_type": "execute_result",
          "data": {
            "text/html": [
              "<div>\n",
              "<style scoped>\n",
              "    .dataframe tbody tr th:only-of-type {\n",
              "        vertical-align: middle;\n",
              "    }\n",
              "\n",
              "    .dataframe tbody tr th {\n",
              "        vertical-align: top;\n",
              "    }\n",
              "\n",
              "    .dataframe thead th {\n",
              "        text-align: right;\n",
              "    }\n",
              "</style>\n",
              "<table border=\"1\" class=\"dataframe\">\n",
              "  <thead>\n",
              "    <tr style=\"text-align: right;\">\n",
              "      <th></th>\n",
              "      <th>Date</th>\n",
              "      <th>Open</th>\n",
              "      <th>High</th>\n",
              "      <th>Low</th>\n",
              "      <th>Close</th>\n",
              "      <th>Adj Close</th>\n",
              "      <th>Volume</th>\n",
              "      <th>Year</th>\n",
              "    </tr>\n",
              "  </thead>\n",
              "  <tbody>\n",
              "    <tr>\n",
              "      <th>0</th>\n",
              "      <td>2010-06-29</td>\n",
              "      <td>19.000000</td>\n",
              "      <td>25.00</td>\n",
              "      <td>17.540001</td>\n",
              "      <td>23.889999</td>\n",
              "      <td>23.889999</td>\n",
              "      <td>18766300</td>\n",
              "      <td>2010</td>\n",
              "    </tr>\n",
              "    <tr>\n",
              "      <th>1</th>\n",
              "      <td>2010-06-30</td>\n",
              "      <td>25.790001</td>\n",
              "      <td>30.42</td>\n",
              "      <td>23.299999</td>\n",
              "      <td>23.830000</td>\n",
              "      <td>23.830000</td>\n",
              "      <td>17187100</td>\n",
              "      <td>2010</td>\n",
              "    </tr>\n",
              "    <tr>\n",
              "      <th>2</th>\n",
              "      <td>2010-07-01</td>\n",
              "      <td>25.000000</td>\n",
              "      <td>25.92</td>\n",
              "      <td>20.270000</td>\n",
              "      <td>21.959999</td>\n",
              "      <td>21.959999</td>\n",
              "      <td>8218800</td>\n",
              "      <td>2010</td>\n",
              "    </tr>\n",
              "    <tr>\n",
              "      <th>3</th>\n",
              "      <td>2010-07-02</td>\n",
              "      <td>23.000000</td>\n",
              "      <td>23.10</td>\n",
              "      <td>18.709999</td>\n",
              "      <td>19.200001</td>\n",
              "      <td>19.200001</td>\n",
              "      <td>5139800</td>\n",
              "      <td>2010</td>\n",
              "    </tr>\n",
              "    <tr>\n",
              "      <th>4</th>\n",
              "      <td>2010-07-06</td>\n",
              "      <td>20.000000</td>\n",
              "      <td>20.00</td>\n",
              "      <td>15.830000</td>\n",
              "      <td>16.110001</td>\n",
              "      <td>16.110001</td>\n",
              "      <td>6866900</td>\n",
              "      <td>2010</td>\n",
              "    </tr>\n",
              "  </tbody>\n",
              "</table>\n",
              "</div>"
            ],
            "text/plain": [
              "         Date       Open   High  ...  Adj Close    Volume  Year\n",
              "0  2010-06-29  19.000000  25.00  ...  23.889999  18766300  2010\n",
              "1  2010-06-30  25.790001  30.42  ...  23.830000  17187100  2010\n",
              "2  2010-07-01  25.000000  25.92  ...  21.959999   8218800  2010\n",
              "3  2010-07-02  23.000000  23.10  ...  19.200001   5139800  2010\n",
              "4  2010-07-06  20.000000  20.00  ...  16.110001   6866900  2010\n",
              "\n",
              "[5 rows x 8 columns]"
            ]
          },
          "metadata": {
            "tags": []
          },
          "execution_count": 90
        }
      ]
    },
    {
      "cell_type": "code",
      "metadata": {
        "id": "e0GrzmWt1jQO",
        "colab_type": "code",
        "colab": {}
      },
      "source": [
        "data.drop(labels=['Date'],axis=1,inplace=True)"
      ],
      "execution_count": 0,
      "outputs": []
    },
    {
      "cell_type": "code",
      "metadata": {
        "id": "AW7sq5982TYu",
        "colab_type": "code",
        "outputId": "57bd2e7a-0064-49e6-bfcf-dfb756c96d35",
        "colab": {
          "base_uri": "https://localhost:8080/",
          "height": 195
        }
      },
      "source": [
        "data.head()"
      ],
      "execution_count": 92,
      "outputs": [
        {
          "output_type": "execute_result",
          "data": {
            "text/html": [
              "<div>\n",
              "<style scoped>\n",
              "    .dataframe tbody tr th:only-of-type {\n",
              "        vertical-align: middle;\n",
              "    }\n",
              "\n",
              "    .dataframe tbody tr th {\n",
              "        vertical-align: top;\n",
              "    }\n",
              "\n",
              "    .dataframe thead th {\n",
              "        text-align: right;\n",
              "    }\n",
              "</style>\n",
              "<table border=\"1\" class=\"dataframe\">\n",
              "  <thead>\n",
              "    <tr style=\"text-align: right;\">\n",
              "      <th></th>\n",
              "      <th>Open</th>\n",
              "      <th>High</th>\n",
              "      <th>Low</th>\n",
              "      <th>Close</th>\n",
              "      <th>Adj Close</th>\n",
              "      <th>Volume</th>\n",
              "      <th>Year</th>\n",
              "    </tr>\n",
              "  </thead>\n",
              "  <tbody>\n",
              "    <tr>\n",
              "      <th>0</th>\n",
              "      <td>19.000000</td>\n",
              "      <td>25.00</td>\n",
              "      <td>17.540001</td>\n",
              "      <td>23.889999</td>\n",
              "      <td>23.889999</td>\n",
              "      <td>18766300</td>\n",
              "      <td>2010</td>\n",
              "    </tr>\n",
              "    <tr>\n",
              "      <th>1</th>\n",
              "      <td>25.790001</td>\n",
              "      <td>30.42</td>\n",
              "      <td>23.299999</td>\n",
              "      <td>23.830000</td>\n",
              "      <td>23.830000</td>\n",
              "      <td>17187100</td>\n",
              "      <td>2010</td>\n",
              "    </tr>\n",
              "    <tr>\n",
              "      <th>2</th>\n",
              "      <td>25.000000</td>\n",
              "      <td>25.92</td>\n",
              "      <td>20.270000</td>\n",
              "      <td>21.959999</td>\n",
              "      <td>21.959999</td>\n",
              "      <td>8218800</td>\n",
              "      <td>2010</td>\n",
              "    </tr>\n",
              "    <tr>\n",
              "      <th>3</th>\n",
              "      <td>23.000000</td>\n",
              "      <td>23.10</td>\n",
              "      <td>18.709999</td>\n",
              "      <td>19.200001</td>\n",
              "      <td>19.200001</td>\n",
              "      <td>5139800</td>\n",
              "      <td>2010</td>\n",
              "    </tr>\n",
              "    <tr>\n",
              "      <th>4</th>\n",
              "      <td>20.000000</td>\n",
              "      <td>20.00</td>\n",
              "      <td>15.830000</td>\n",
              "      <td>16.110001</td>\n",
              "      <td>16.110001</td>\n",
              "      <td>6866900</td>\n",
              "      <td>2010</td>\n",
              "    </tr>\n",
              "  </tbody>\n",
              "</table>\n",
              "</div>"
            ],
            "text/plain": [
              "        Open   High        Low      Close  Adj Close    Volume  Year\n",
              "0  19.000000  25.00  17.540001  23.889999  23.889999  18766300  2010\n",
              "1  25.790001  30.42  23.299999  23.830000  23.830000  17187100  2010\n",
              "2  25.000000  25.92  20.270000  21.959999  21.959999   8218800  2010\n",
              "3  23.000000  23.10  18.709999  19.200001  19.200001   5139800  2010\n",
              "4  20.000000  20.00  15.830000  16.110001  16.110001   6866900  2010"
            ]
          },
          "metadata": {
            "tags": []
          },
          "execution_count": 92
        }
      ]
    },
    {
      "cell_type": "code",
      "metadata": {
        "id": "4dlpiLo32XKR",
        "colab_type": "code",
        "outputId": "aa8d2181-c51a-4dbd-f070-954bbef330ad",
        "colab": {
          "base_uri": "https://localhost:8080/",
          "height": 290
        }
      },
      "source": [
        "plt.scatter(data['Year'],data['Volume'],color='Blue')\n",
        "plt.xlabel(\"Year\")\n",
        "plt.ylabel(\"Volume\")\n",
        "plt.show()"
      ],
      "execution_count": 93,
      "outputs": [
        {
          "output_type": "display_data",
          "data": {
            "image/png": "[encoded data removed]",
            "text/plain": [
              "<Figure size 432x288 with 1 Axes>"
            ]
          },
          "metadata": {
            "tags": []
          }
        }
      ]
    },
    {
      "cell_type": "code",
      "metadata": {
        "id": "H-qvQgGi2syH",
        "colab_type": "code",
        "colab": {}
      },
      "source": [
        "data=pd.read_csv('/content/drive/My Drive/tesla-stock-data-from-2010-to-2020/TSLA.csv')"
      ],
      "execution_count": 0,
      "outputs": []
    },
    {
      "cell_type": "code",
      "metadata": {
        "id": "eUhvJw0H6HBi",
        "colab_type": "code",
        "colab": {}
      },
      "source": [
        "X=data['Date']"
      ],
      "execution_count": 0,
      "outputs": []
    },
    {
      "cell_type": "markdown",
      "metadata": {
        "id": "VnMVUAOx7K3w",
        "colab_type": "text"
      },
      "source": [
        "We just saw that the stocks rose really high in the year of 2020 lets see the pattern\n"
      ]
    },
    {
      "cell_type": "code",
      "metadata": {
        "id": "eOy0bX157Sv9",
        "colab_type": "code",
        "colab": {}
      },
      "source": [
        "p=[]\n",
        "for i in X:\n",
        "  s=i.split('-')\n",
        "  p.append(int(s[0]))\n",
        "data['Year']=p"
      ],
      "execution_count": 0,
      "outputs": []
    },
    {
      "cell_type": "code",
      "metadata": {
        "id": "4AYAHupF71d9",
        "colab_type": "code",
        "colab": {}
      },
      "source": [
        "p=[]\n",
        "for i in X:\n",
        "  s=i.split('-')\n",
        "  p.append(s[1]+'/'+s[2])\n",
        "data['Month-Day']=p"
      ],
      "execution_count": 0,
      "outputs": []
    },
    {
      "cell_type": "code",
      "metadata": {
        "id": "U9NSegcK96dx",
        "colab_type": "code",
        "outputId": "89c5495b-f72e-4ab2-b540-d65f74d0d1a7",
        "colab": {
          "base_uri": "https://localhost:8080/",
          "height": 195
        }
      },
      "source": [
        "data.head()"
      ],
      "execution_count": 98,
      "outputs": [
        {
          "output_type": "execute_result",
          "data": {
            "text/html": [
              "<div>\n",
              "<style scoped>\n",
              "    .dataframe tbody tr th:only-of-type {\n",
              "        vertical-align: middle;\n",
              "    }\n",
              "\n",
              "    .dataframe tbody tr th {\n",
              "        vertical-align: top;\n",
              "    }\n",
              "\n",
              "    .dataframe thead th {\n",
              "        text-align: right;\n",
              "    }\n",
              "</style>\n",
              "<table border=\"1\" class=\"dataframe\">\n",
              "  <thead>\n",
              "    <tr style=\"text-align: right;\">\n",
              "      <th></th>\n",
              "      <th>Date</th>\n",
              "      <th>Open</th>\n",
              "      <th>High</th>\n",
              "      <th>Low</th>\n",
              "      <th>Close</th>\n",
              "      <th>Adj Close</th>\n",
              "      <th>Volume</th>\n",
              "      <th>Year</th>\n",
              "      <th>Month-Day</th>\n",
              "    </tr>\n",
              "  </thead>\n",
              "  <tbody>\n",
              "    <tr>\n",
              "      <th>0</th>\n",
              "      <td>2010-06-29</td>\n",
              "      <td>19.000000</td>\n",
              "      <td>25.00</td>\n",
              "      <td>17.540001</td>\n",
              "      <td>23.889999</td>\n",
              "      <td>23.889999</td>\n",
              "      <td>18766300</td>\n",
              "      <td>2010</td>\n",
              "      <td>06/29</td>\n",
              "    </tr>\n",
              "    <tr>\n",
              "      <th>1</th>\n",
              "      <td>2010-06-30</td>\n",
              "      <td>25.790001</td>\n",
              "      <td>30.42</td>\n",
              "      <td>23.299999</td>\n",
              "      <td>23.830000</td>\n",
              "      <td>23.830000</td>\n",
              "      <td>17187100</td>\n",
              "      <td>2010</td>\n",
              "      <td>06/30</td>\n",
              "    </tr>\n",
              "    <tr>\n",
              "      <th>2</th>\n",
              "      <td>2010-07-01</td>\n",
              "      <td>25.000000</td>\n",
              "      <td>25.92</td>\n",
              "      <td>20.270000</td>\n",
              "      <td>21.959999</td>\n",
              "      <td>21.959999</td>\n",
              "      <td>8218800</td>\n",
              "      <td>2010</td>\n",
              "      <td>07/01</td>\n",
              "    </tr>\n",
              "    <tr>\n",
              "      <th>3</th>\n",
              "      <td>2010-07-02</td>\n",
              "      <td>23.000000</td>\n",
              "      <td>23.10</td>\n",
              "      <td>18.709999</td>\n",
              "      <td>19.200001</td>\n",
              "      <td>19.200001</td>\n",
              "      <td>5139800</td>\n",
              "      <td>2010</td>\n",
              "      <td>07/02</td>\n",
              "    </tr>\n",
              "    <tr>\n",
              "      <th>4</th>\n",
              "      <td>2010-07-06</td>\n",
              "      <td>20.000000</td>\n",
              "      <td>20.00</td>\n",
              "      <td>15.830000</td>\n",
              "      <td>16.110001</td>\n",
              "      <td>16.110001</td>\n",
              "      <td>6866900</td>\n",
              "      <td>2010</td>\n",
              "      <td>07/06</td>\n",
              "    </tr>\n",
              "  </tbody>\n",
              "</table>\n",
              "</div>"
            ],
            "text/plain": [
              "         Date       Open   High        Low  ...  Adj Close    Volume  Year  Month-Day\n",
              "0  2010-06-29  19.000000  25.00  17.540001  ...  23.889999  18766300  2010      06/29\n",
              "1  2010-06-30  25.790001  30.42  23.299999  ...  23.830000  17187100  2010      06/30\n",
              "2  2010-07-01  25.000000  25.92  20.270000  ...  21.959999   8218800  2010      07/01\n",
              "3  2010-07-02  23.000000  23.10  18.709999  ...  19.200001   5139800  2010      07/02\n",
              "4  2010-07-06  20.000000  20.00  15.830000  ...  16.110001   6866900  2010      07/06\n",
              "\n",
              "[5 rows x 9 columns]"
            ]
          },
          "metadata": {
            "tags": []
          },
          "execution_count": 98
        }
      ]
    },
    {
      "cell_type": "code",
      "metadata": {
        "id": "TNrT_GSW-SuS",
        "colab_type": "code",
        "colab": {}
      },
      "source": [
        "data.drop(['Date'],axis=1,inplace=True)"
      ],
      "execution_count": 0,
      "outputs": []
    },
    {
      "cell_type": "code",
      "metadata": {
        "id": "23_uzBis-aH3",
        "colab_type": "code",
        "outputId": "be14f58c-3318-43a4-a666-f1ea87e5b246",
        "colab": {
          "base_uri": "https://localhost:8080/",
          "height": 195
        }
      },
      "source": [
        "data.head()"
      ],
      "execution_count": 110,
      "outputs": [
        {
          "output_type": "execute_result",
          "data": {
            "text/html": [
              "<div>\n",
              "<style scoped>\n",
              "    .dataframe tbody tr th:only-of-type {\n",
              "        vertical-align: middle;\n",
              "    }\n",
              "\n",
              "    .dataframe tbody tr th {\n",
              "        vertical-align: top;\n",
              "    }\n",
              "\n",
              "    .dataframe thead th {\n",
              "        text-align: right;\n",
              "    }\n",
              "</style>\n",
              "<table border=\"1\" class=\"dataframe\">\n",
              "  <thead>\n",
              "    <tr style=\"text-align: right;\">\n",
              "      <th></th>\n",
              "      <th>Open</th>\n",
              "      <th>High</th>\n",
              "      <th>Low</th>\n",
              "      <th>Close</th>\n",
              "      <th>Adj Close</th>\n",
              "      <th>Volume</th>\n",
              "      <th>Year</th>\n",
              "      <th>Month-Day</th>\n",
              "    </tr>\n",
              "  </thead>\n",
              "  <tbody>\n",
              "    <tr>\n",
              "      <th>0</th>\n",
              "      <td>19.000000</td>\n",
              "      <td>25.00</td>\n",
              "      <td>17.540001</td>\n",
              "      <td>23.889999</td>\n",
              "      <td>23.889999</td>\n",
              "      <td>18766300</td>\n",
              "      <td>2010</td>\n",
              "      <td>06/29</td>\n",
              "    </tr>\n",
              "    <tr>\n",
              "      <th>1</th>\n",
              "      <td>25.790001</td>\n",
              "      <td>30.42</td>\n",
              "      <td>23.299999</td>\n",
              "      <td>23.830000</td>\n",
              "      <td>23.830000</td>\n",
              "      <td>17187100</td>\n",
              "      <td>2010</td>\n",
              "      <td>06/30</td>\n",
              "    </tr>\n",
              "    <tr>\n",
              "      <th>2</th>\n",
              "      <td>25.000000</td>\n",
              "      <td>25.92</td>\n",
              "      <td>20.270000</td>\n",
              "      <td>21.959999</td>\n",
              "      <td>21.959999</td>\n",
              "      <td>8218800</td>\n",
              "      <td>2010</td>\n",
              "      <td>07/01</td>\n",
              "    </tr>\n",
              "    <tr>\n",
              "      <th>3</th>\n",
              "      <td>23.000000</td>\n",
              "      <td>23.10</td>\n",
              "      <td>18.709999</td>\n",
              "      <td>19.200001</td>\n",
              "      <td>19.200001</td>\n",
              "      <td>5139800</td>\n",
              "      <td>2010</td>\n",
              "      <td>07/02</td>\n",
              "    </tr>\n",
              "    <tr>\n",
              "      <th>4</th>\n",
              "      <td>20.000000</td>\n",
              "      <td>20.00</td>\n",
              "      <td>15.830000</td>\n",
              "      <td>16.110001</td>\n",
              "      <td>16.110001</td>\n",
              "      <td>6866900</td>\n",
              "      <td>2010</td>\n",
              "      <td>07/06</td>\n",
              "    </tr>\n",
              "  </tbody>\n",
              "</table>\n",
              "</div>"
            ],
            "text/plain": [
              "        Open   High        Low      Close  Adj Close    Volume  Year Month-Day\n",
              "0  19.000000  25.00  17.540001  23.889999  23.889999  18766300  2010     06/29\n",
              "1  25.790001  30.42  23.299999  23.830000  23.830000  17187100  2010     06/30\n",
              "2  25.000000  25.92  20.270000  21.959999  21.959999   8218800  2010     07/01\n",
              "3  23.000000  23.10  18.709999  19.200001  19.200001   5139800  2010     07/02\n",
              "4  20.000000  20.00  15.830000  16.110001  16.110001   6866900  2010     07/06"
            ]
          },
          "metadata": {
            "tags": []
          },
          "execution_count": 110
        }
      ]
    },
    {
      "cell_type": "code",
      "metadata": {
        "id": "Lx_5egfZ-fyS",
        "colab_type": "code",
        "colab": {}
      },
      "source": [
        "data_2020=data[data['Year']==2020]"
      ],
      "execution_count": 0,
      "outputs": []
    },
    {
      "cell_type": "code",
      "metadata": {
        "id": "NfK7eN8W-mqw",
        "colab_type": "code",
        "outputId": "8c633173-f256-4595-96ca-ffec578399d9",
        "colab": {
          "base_uri": "https://localhost:8080/",
          "height": 195
        }
      },
      "source": [
        "data_2020.head()"
      ],
      "execution_count": 112,
      "outputs": [
        {
          "output_type": "execute_result",
          "data": {
            "text/html": [
              "<div>\n",
              "<style scoped>\n",
              "    .dataframe tbody tr th:only-of-type {\n",
              "        vertical-align: middle;\n",
              "    }\n",
              "\n",
              "    .dataframe tbody tr th {\n",
              "        vertical-align: top;\n",
              "    }\n",
              "\n",
              "    .dataframe thead th {\n",
              "        text-align: right;\n",
              "    }\n",
              "</style>\n",
              "<table border=\"1\" class=\"dataframe\">\n",
              "  <thead>\n",
              "    <tr style=\"text-align: right;\">\n",
              "      <th></th>\n",
              "      <th>Open</th>\n",
              "      <th>High</th>\n",
              "      <th>Low</th>\n",
              "      <th>Close</th>\n",
              "      <th>Adj Close</th>\n",
              "      <th>Volume</th>\n",
              "      <th>Year</th>\n",
              "      <th>Month-Day</th>\n",
              "    </tr>\n",
              "  </thead>\n",
              "  <tbody>\n",
              "    <tr>\n",
              "      <th>2394</th>\n",
              "      <td>424.500000</td>\n",
              "      <td>430.700012</td>\n",
              "      <td>421.709991</td>\n",
              "      <td>430.260010</td>\n",
              "      <td>430.260010</td>\n",
              "      <td>9532100</td>\n",
              "      <td>2020</td>\n",
              "      <td>01/02</td>\n",
              "    </tr>\n",
              "    <tr>\n",
              "      <th>2395</th>\n",
              "      <td>440.500000</td>\n",
              "      <td>454.000000</td>\n",
              "      <td>436.920013</td>\n",
              "      <td>443.010010</td>\n",
              "      <td>443.010010</td>\n",
              "      <td>17778500</td>\n",
              "      <td>2020</td>\n",
              "      <td>01/03</td>\n",
              "    </tr>\n",
              "    <tr>\n",
              "      <th>2396</th>\n",
              "      <td>440.470001</td>\n",
              "      <td>451.559998</td>\n",
              "      <td>440.000000</td>\n",
              "      <td>451.540009</td>\n",
              "      <td>451.540009</td>\n",
              "      <td>10133000</td>\n",
              "      <td>2020</td>\n",
              "      <td>01/06</td>\n",
              "    </tr>\n",
              "    <tr>\n",
              "      <th>2397</th>\n",
              "      <td>461.399994</td>\n",
              "      <td>471.630005</td>\n",
              "      <td>453.359985</td>\n",
              "      <td>469.059998</td>\n",
              "      <td>469.059998</td>\n",
              "      <td>17882100</td>\n",
              "      <td>2020</td>\n",
              "      <td>01/07</td>\n",
              "    </tr>\n",
              "    <tr>\n",
              "      <th>2398</th>\n",
              "      <td>473.700012</td>\n",
              "      <td>498.489990</td>\n",
              "      <td>468.230011</td>\n",
              "      <td>492.140015</td>\n",
              "      <td>492.140015</td>\n",
              "      <td>31144300</td>\n",
              "      <td>2020</td>\n",
              "      <td>01/08</td>\n",
              "    </tr>\n",
              "  </tbody>\n",
              "</table>\n",
              "</div>"
            ],
            "text/plain": [
              "            Open        High         Low  ...    Volume  Year  Month-Day\n",
              "2394  424.500000  430.700012  421.709991  ...   9532100  2020      01/02\n",
              "2395  440.500000  454.000000  436.920013  ...  17778500  2020      01/03\n",
              "2396  440.470001  451.559998  440.000000  ...  10133000  2020      01/06\n",
              "2397  461.399994  471.630005  453.359985  ...  17882100  2020      01/07\n",
              "2398  473.700012  498.489990  468.230011  ...  31144300  2020      01/08\n",
              "\n",
              "[5 rows x 8 columns]"
            ]
          },
          "metadata": {
            "tags": []
          },
          "execution_count": 112
        }
      ]
    },
    {
      "cell_type": "code",
      "metadata": {
        "id": "z6Mgdggk-riS",
        "colab_type": "code",
        "outputId": "40191c51-e5b1-4049-fba0-88455ba634ec",
        "colab": {
          "base_uri": "https://localhost:8080/",
          "height": 388
        }
      },
      "source": [
        "sns.catplot(x='Month-Day',y='Volume',data=data_2020,kind='point')\n",
        "plt.xticks(rotation=90)\n",
        "plt.show()"
      ],
      "execution_count": 113,
      "outputs": [
        {
          "output_type": "display_data",
          "data": {
            "image/png": "[encoded data removed]",
            "text/plain": [
              "<Figure size 360x360 with 1 Axes>"
            ]
          },
          "metadata": {
            "tags": []
          }
        }
      ]
    },
    {
      "cell_type": "code",
      "metadata": {
        "id": "s57xA-YJA2pF",
        "colab_type": "code",
        "outputId": "9ebb83de-e7c3-4c0e-93b0-5594a167840d",
        "colab": {
          "base_uri": "https://localhost:8080/",
          "height": 254
        }
      },
      "source": [
        "data.corr()"
      ],
      "execution_count": 114,
      "outputs": [
        {
          "output_type": "execute_result",
          "data": {
            "text/html": [
              "<div>\n",
              "<style scoped>\n",
              "    .dataframe tbody tr th:only-of-type {\n",
              "        vertical-align: middle;\n",
              "    }\n",
              "\n",
              "    .dataframe tbody tr th {\n",
              "        vertical-align: top;\n",
              "    }\n",
              "\n",
              "    .dataframe thead th {\n",
              "        text-align: right;\n",
              "    }\n",
              "</style>\n",
              "<table border=\"1\" class=\"dataframe\">\n",
              "  <thead>\n",
              "    <tr style=\"text-align: right;\">\n",
              "      <th></th>\n",
              "      <th>Open</th>\n",
              "      <th>High</th>\n",
              "      <th>Low</th>\n",
              "      <th>Close</th>\n",
              "      <th>Adj Close</th>\n",
              "      <th>Volume</th>\n",
              "      <th>Year</th>\n",
              "    </tr>\n",
              "  </thead>\n",
              "  <tbody>\n",
              "    <tr>\n",
              "      <th>Open</th>\n",
              "      <td>1.000000</td>\n",
              "      <td>0.999425</td>\n",
              "      <td>0.999575</td>\n",
              "      <td>0.998886</td>\n",
              "      <td>0.998886</td>\n",
              "      <td>0.501762</td>\n",
              "      <td>0.886733</td>\n",
              "    </tr>\n",
              "    <tr>\n",
              "      <th>High</th>\n",
              "      <td>0.999425</td>\n",
              "      <td>1.000000</td>\n",
              "      <td>0.999389</td>\n",
              "      <td>0.999640</td>\n",
              "      <td>0.999640</td>\n",
              "      <td>0.512944</td>\n",
              "      <td>0.886367</td>\n",
              "    </tr>\n",
              "    <tr>\n",
              "      <th>Low</th>\n",
              "      <td>0.999575</td>\n",
              "      <td>0.999389</td>\n",
              "      <td>1.000000</td>\n",
              "      <td>0.999447</td>\n",
              "      <td>0.999447</td>\n",
              "      <td>0.493496</td>\n",
              "      <td>0.886549</td>\n",
              "    </tr>\n",
              "    <tr>\n",
              "      <th>Close</th>\n",
              "      <td>0.998886</td>\n",
              "      <td>0.999640</td>\n",
              "      <td>0.999447</td>\n",
              "      <td>1.000000</td>\n",
              "      <td>1.000000</td>\n",
              "      <td>0.505169</td>\n",
              "      <td>0.886089</td>\n",
              "    </tr>\n",
              "    <tr>\n",
              "      <th>Adj Close</th>\n",
              "      <td>0.998886</td>\n",
              "      <td>0.999640</td>\n",
              "      <td>0.999447</td>\n",
              "      <td>1.000000</td>\n",
              "      <td>1.000000</td>\n",
              "      <td>0.505169</td>\n",
              "      <td>0.886089</td>\n",
              "    </tr>\n",
              "    <tr>\n",
              "      <th>Volume</th>\n",
              "      <td>0.501762</td>\n",
              "      <td>0.512944</td>\n",
              "      <td>0.493496</td>\n",
              "      <td>0.505169</td>\n",
              "      <td>0.505169</td>\n",
              "      <td>1.000000</td>\n",
              "      <td>0.479585</td>\n",
              "    </tr>\n",
              "    <tr>\n",
              "      <th>Year</th>\n",
              "      <td>0.886733</td>\n",
              "      <td>0.886367</td>\n",
              "      <td>0.886549</td>\n",
              "      <td>0.886089</td>\n",
              "      <td>0.886089</td>\n",
              "      <td>0.479585</td>\n",
              "      <td>1.000000</td>\n",
              "    </tr>\n",
              "  </tbody>\n",
              "</table>\n",
              "</div>"
            ],
            "text/plain": [
              "               Open      High       Low  ...  Adj Close    Volume      Year\n",
              "Open       1.000000  0.999425  0.999575  ...   0.998886  0.501762  0.886733\n",
              "High       0.999425  1.000000  0.999389  ...   0.999640  0.512944  0.886367\n",
              "Low        0.999575  0.999389  1.000000  ...   0.999447  0.493496  0.886549\n",
              "Close      0.998886  0.999640  0.999447  ...   1.000000  0.505169  0.886089\n",
              "Adj Close  0.998886  0.999640  0.999447  ...   1.000000  0.505169  0.886089\n",
              "Volume     0.501762  0.512944  0.493496  ...   0.505169  1.000000  0.479585\n",
              "Year       0.886733  0.886367  0.886549  ...   0.886089  0.479585  1.000000\n",
              "\n",
              "[7 rows x 7 columns]"
            ]
          },
          "metadata": {
            "tags": []
          },
          "execution_count": 114
        }
      ]
    },
    {
      "cell_type": "code",
      "metadata": {
        "id": "989W61nJ-_vj",
        "colab_type": "code",
        "outputId": "295d653d-386e-4465-96e3-9b131be1665c",
        "colab": {
          "base_uri": "https://localhost:8080/",
          "height": 293
        }
      },
      "source": [
        "plt.scatter(data_2020['Open'],data_2020['Volume'],color='red')"
      ],
      "execution_count": 115,
      "outputs": [
        {
          "output_type": "execute_result",
          "data": {
            "text/plain": [
              "<matplotlib.collections.PathCollection at 0x7fc95d12d4a8>"
            ]
          },
          "metadata": {
            "tags": []
          },
          "execution_count": 115
        },
        {
          "output_type": "display_data",
          "data": {
            "image/png": "[encoded data removed]",
            "text/plain": [
              "<Figure size 432x288 with 1 Axes>"
            ]
          },
          "metadata": {
            "tags": []
          }
        }
      ]
    },
    {
      "cell_type": "code",
      "metadata": {
        "id": "yeI3eWkKAyOR",
        "colab_type": "code",
        "colab": {}
      },
      "source": [
        "import random"
      ],
      "execution_count": 0,
      "outputs": []
    },
    {
      "cell_type": "code",
      "metadata": {
        "id": "H_yPqWs9IwiO",
        "colab_type": "code",
        "colab": {}
      },
      "source": [
        "feature=data[['Open','High','Low','Close','Adj Close']]\n",
        "y=data[['Volume']]"
      ],
      "execution_count": 0,
      "outputs": []
    },
    {
      "cell_type": "code",
      "metadata": {
        "id": "dbQkW3o0IdHI",
        "colab_type": "code",
        "colab": {}
      },
      "source": [
        "msk = np.random.rand(len(data)) < 0.8\n",
        "train = data[msk]\n",
        "test = data[~msk]"
      ],
      "execution_count": 0,
      "outputs": []
    },
    {
      "cell_type": "code",
      "metadata": {
        "id": "mMb4RmitIfEJ",
        "colab_type": "code",
        "colab": {}
      },
      "source": [
        "x_train=train[['Open','Low','Close','Adj Close']]\n",
        "y_train=train[['High']]\n",
        "x_test=test[['Open','Low','Close','Adj Close']]\n",
        "y_test=test[['High']]"
      ],
      "execution_count": 0,
      "outputs": []
    },
    {
      "cell_type": "code",
      "metadata": {
        "id": "kBpqUIloKCXa",
        "colab_type": "code",
        "colab": {}
      },
      "source": [
        "from sklearn.preprocessing import PolynomialFeatures\n",
        "from sklearn import linear_model"
      ],
      "execution_count": 0,
      "outputs": []
    },
    {
      "cell_type": "code",
      "metadata": {
        "id": "VfiCEUdYKFg2",
        "colab_type": "code",
        "colab": {}
      },
      "source": [
        "regr=linear_model.LinearRegression()"
      ],
      "execution_count": 0,
      "outputs": []
    },
    {
      "cell_type": "code",
      "metadata": {
        "id": "Sdhg3OJ7KHlY",
        "colab_type": "code",
        "colab": {
          "base_uri": "https://localhost:8080/",
          "height": 34
        },
        "outputId": "1f6d6993-fe12-4b5c-94b8-18e7e70503d4"
      },
      "source": [
        "regr.fit(x_train,y_train)"
      ],
      "execution_count": 160,
      "outputs": [
        {
          "output_type": "execute_result",
          "data": {
            "text/plain": [
              "LinearRegression(copy_X=True, fit_intercept=True, n_jobs=None, normalize=False)"
            ]
          },
          "metadata": {
            "tags": []
          },
          "execution_count": 160
        }
      ]
    },
    {
      "cell_type": "code",
      "metadata": {
        "id": "NPusZVtyKQEK",
        "colab_type": "code",
        "colab": {}
      },
      "source": [
        "ans=regr.predict(x_test)"
      ],
      "execution_count": 0,
      "outputs": []
    },
    {
      "cell_type": "code",
      "metadata": {
        "id": "M8kZAZSIKSbG",
        "colab_type": "code",
        "colab": {}
      },
      "source": [
        "from sklearn.metrics import r2_score"
      ],
      "execution_count": 0,
      "outputs": []
    },
    {
      "cell_type": "code",
      "metadata": {
        "id": "nTGzd3rTKZlL",
        "colab_type": "code",
        "colab": {
          "base_uri": "https://localhost:8080/",
          "height": 34
        },
        "outputId": "4d716cdc-e888-48aa-9829-4ad2c5a2b251"
      },
      "source": [
        "print('the r2 score shows that the linear regression has an accuracy of:',r2_score(ans,y_test))"
      ],
      "execution_count": 163,
      "outputs": [
        {
          "output_type": "stream",
          "text": [
            "the r2 score shows that the linear regression has an accuracy of: 0.9996752836180239\n"
          ],
          "name": "stdout"
        }
      ]
    },
    {
      "cell_type": "code",
      "metadata": {
        "id": "tXMnGOBqKixW",
        "colab_type": "code",
        "colab": {}
      },
      "source": [
        ""
      ],
      "execution_count": 0,
      "outputs": []
    },
    {
      "cell_type": "markdown",
      "metadata": {
        "id": "lYXh9y3mKkUe",
        "colab_type": "text"
      },
      "source": [
        "This shows that we have a very good accuracy with the linear regression model"
      ]
    },
    {
      "cell_type": "code",
      "metadata": {
        "id": "6LQceBjxKo-5",
        "colab_type": "code",
        "colab": {}
      },
      "source": [
        "df=pd.read_csv('/content/drive/My Drive/tesla-stock-data-from-2010-to-2020/TSLA.csv')"
      ],
      "execution_count": 0,
      "outputs": []
    },
    {
      "cell_type": "code",
      "metadata": {
        "id": "H9xAW7xyK1Ve",
        "colab_type": "code",
        "colab": {}
      },
      "source": [
        ""
      ],
      "execution_count": 0,
      "outputs": []
    },
    {
      "cell_type": "markdown",
      "metadata": {
        "id": "KgGMwhGEK2eZ",
        "colab_type": "text"
      },
      "source": [
        "now you may enter the day and we may tell you what opening price of the stock is gonna be on  that day"
      ]
    },
    {
      "cell_type": "code",
      "metadata": {
        "id": "VBLg_oFFK99t",
        "colab_type": "code",
        "colab": {}
      },
      "source": [
        "X=df['Date']"
      ],
      "execution_count": 0,
      "outputs": []
    },
    {
      "cell_type": "code",
      "metadata": {
        "id": "p8h1AKehLGaF",
        "colab_type": "code",
        "colab": {}
      },
      "source": [
        "p=[]\n",
        "for i in X:\n",
        "  t=i.split('-')\n",
        "  an=t[0]+t[1]+t[2]\n",
        "  p.append(int(an))\n",
        "df['Date']=p"
      ],
      "execution_count": 0,
      "outputs": []
    },
    {
      "cell_type": "code",
      "metadata": {
        "id": "cDEWBirwLKTj",
        "colab_type": "code",
        "colab": {
          "base_uri": "https://localhost:8080/",
          "height": 195
        },
        "outputId": "fbd5915c-6ecc-4b48-8ca8-4c8a7d08639a"
      },
      "source": [
        "df.head()"
      ],
      "execution_count": 167,
      "outputs": [
        {
          "output_type": "execute_result",
          "data": {
            "text/html": [
              "<div>\n",
              "<style scoped>\n",
              "    .dataframe tbody tr th:only-of-type {\n",
              "        vertical-align: middle;\n",
              "    }\n",
              "\n",
              "    .dataframe tbody tr th {\n",
              "        vertical-align: top;\n",
              "    }\n",
              "\n",
              "    .dataframe thead th {\n",
              "        text-align: right;\n",
              "    }\n",
              "</style>\n",
              "<table border=\"1\" class=\"dataframe\">\n",
              "  <thead>\n",
              "    <tr style=\"text-align: right;\">\n",
              "      <th></th>\n",
              "      <th>Date</th>\n",
              "      <th>Open</th>\n",
              "      <th>High</th>\n",
              "      <th>Low</th>\n",
              "      <th>Close</th>\n",
              "      <th>Adj Close</th>\n",
              "      <th>Volume</th>\n",
              "    </tr>\n",
              "  </thead>\n",
              "  <tbody>\n",
              "    <tr>\n",
              "      <th>0</th>\n",
              "      <td>20100629</td>\n",
              "      <td>19.000000</td>\n",
              "      <td>25.00</td>\n",
              "      <td>17.540001</td>\n",
              "      <td>23.889999</td>\n",
              "      <td>23.889999</td>\n",
              "      <td>18766300</td>\n",
              "    </tr>\n",
              "    <tr>\n",
              "      <th>1</th>\n",
              "      <td>20100630</td>\n",
              "      <td>25.790001</td>\n",
              "      <td>30.42</td>\n",
              "      <td>23.299999</td>\n",
              "      <td>23.830000</td>\n",
              "      <td>23.830000</td>\n",
              "      <td>17187100</td>\n",
              "    </tr>\n",
              "    <tr>\n",
              "      <th>2</th>\n",
              "      <td>20100701</td>\n",
              "      <td>25.000000</td>\n",
              "      <td>25.92</td>\n",
              "      <td>20.270000</td>\n",
              "      <td>21.959999</td>\n",
              "      <td>21.959999</td>\n",
              "      <td>8218800</td>\n",
              "    </tr>\n",
              "    <tr>\n",
              "      <th>3</th>\n",
              "      <td>20100702</td>\n",
              "      <td>23.000000</td>\n",
              "      <td>23.10</td>\n",
              "      <td>18.709999</td>\n",
              "      <td>19.200001</td>\n",
              "      <td>19.200001</td>\n",
              "      <td>5139800</td>\n",
              "    </tr>\n",
              "    <tr>\n",
              "      <th>4</th>\n",
              "      <td>20100706</td>\n",
              "      <td>20.000000</td>\n",
              "      <td>20.00</td>\n",
              "      <td>15.830000</td>\n",
              "      <td>16.110001</td>\n",
              "      <td>16.110001</td>\n",
              "      <td>6866900</td>\n",
              "    </tr>\n",
              "  </tbody>\n",
              "</table>\n",
              "</div>"
            ],
            "text/plain": [
              "       Date       Open   High        Low      Close  Adj Close    Volume\n",
              "0  20100629  19.000000  25.00  17.540001  23.889999  23.889999  18766300\n",
              "1  20100630  25.790001  30.42  23.299999  23.830000  23.830000  17187100\n",
              "2  20100701  25.000000  25.92  20.270000  21.959999  21.959999   8218800\n",
              "3  20100702  23.000000  23.10  18.709999  19.200001  19.200001   5139800\n",
              "4  20100706  20.000000  20.00  15.830000  16.110001  16.110001   6866900"
            ]
          },
          "metadata": {
            "tags": []
          },
          "execution_count": 167
        }
      ]
    },
    {
      "cell_type": "code",
      "metadata": {
        "id": "L9vYgNO9LLrV",
        "colab_type": "code",
        "colab": {}
      },
      "source": [
        "msk = np.random.rand(len(df)) < 0.8\n",
        "train = df[msk]\n",
        "test = df[~msk]"
      ],
      "execution_count": 0,
      "outputs": []
    },
    {
      "cell_type": "code",
      "metadata": {
        "id": "BdZmNBQzLPhK",
        "colab_type": "code",
        "colab": {}
      },
      "source": [
        "trainx=train[['Date']]\n",
        "trainy=train[['Open']]\n",
        "testx=test[['Date']]\n",
        "testy=test[['Open']]"
      ],
      "execution_count": 0,
      "outputs": []
    },
    {
      "cell_type": "code",
      "metadata": {
        "id": "OEtdO-PrMS26",
        "colab_type": "code",
        "colab": {
          "base_uri": "https://localhost:8080/",
          "height": 34
        },
        "outputId": "90d70abd-5962-4cbd-eadb-3c0f99e32dcf"
      },
      "source": [
        "regr.fit(trainx,trainy)"
      ],
      "execution_count": 179,
      "outputs": [
        {
          "output_type": "execute_result",
          "data": {
            "text/plain": [
              "LinearRegression(copy_X=True, fit_intercept=True, n_jobs=None, normalize=False)"
            ]
          },
          "metadata": {
            "tags": []
          },
          "execution_count": 179
        }
      ]
    },
    {
      "cell_type": "code",
      "metadata": {
        "id": "-Fw-AjJoMWfM",
        "colab_type": "code",
        "colab": {
          "base_uri": "https://localhost:8080/",
          "height": 1000
        },
        "outputId": "986c1e7f-639e-4fc8-a6aa-77fd68d674dc"
      },
      "source": [
        "ans=regr.predict(testx)\n",
        "ans"
      ],
      "execution_count": 180,
      "outputs": [
        {
          "output_type": "execute_result",
          "data": {
            "text/plain": [
              "array([[  4.54942402],\n",
              "       [  4.57991259],\n",
              "       [  4.922909  ],\n",
              "       [  4.93815329],\n",
              "       [  4.94196436],\n",
              "       [  4.99150828],\n",
              "       [  5.33831577],\n",
              "       [  5.36118219],\n",
              "       [  5.39167076],\n",
              "       [  5.69655646],\n",
              "       [  5.73466717],\n",
              "       [  5.73847825],\n",
              "       [  5.74610039],\n",
              "       [  5.77658896],\n",
              "       [  6.0624193 ],\n",
              "       [  6.09290787],\n",
              "       [  6.11958537],\n",
              "       [  6.43590428],\n",
              "       [  6.46639285],\n",
              "       [  6.47782606],\n",
              "       [  6.51212571],\n",
              "       [  6.53499213],\n",
              "       [  6.5388032 ],\n",
              "       [ 40.39254896],\n",
              "       [ 40.41541539],\n",
              "       [ 40.41922646],\n",
              "       [ 40.74316752],\n",
              "       [ 40.82320001],\n",
              "       [ 40.83463323],\n",
              "       [ 41.11284143],\n",
              "       [ 41.1166525 ],\n",
              "       [ 41.13570785],\n",
              "       [ 41.15095214],\n",
              "       [ 41.1700075 ],\n",
              "       [ 41.19287392],\n",
              "       [ 41.20049607],\n",
              "       [ 41.21574035],\n",
              "       [ 41.21955142],\n",
              "       [ 41.22336249],\n",
              "       [ 41.51300391],\n",
              "       [ 41.52062605],\n",
              "       [ 41.54730355],\n",
              "       [ 41.58541426],\n",
              "       [ 41.60065854],\n",
              "       [ 41.89029996],\n",
              "       [ 41.91316639],\n",
              "       [ 41.93603281],\n",
              "       [ 42.36287279],\n",
              "       [ 42.63726992],\n",
              "       [ 42.67538063],\n",
              "       [ 42.7058692 ],\n",
              "       [ 43.04886561],\n",
              "       [ 43.05648776],\n",
              "       [ 43.07173204],\n",
              "       [ 43.10222061],\n",
              "       [ 43.10984275],\n",
              "       [ 43.11365382],\n",
              "       [ 43.39948417],\n",
              "       [ 43.40329524],\n",
              "       [ 43.42997274],\n",
              "       [ 43.49476095],\n",
              "       [ 43.79583557],\n",
              "       [ 43.80345772],\n",
              "       [ 43.84919057],\n",
              "       [ 43.86824593],\n",
              "       [ 43.89492343],\n",
              "       [ 44.16169841],\n",
              "       [ 44.16550948],\n",
              "       [ 44.16932056],\n",
              "       [ 44.19599805],\n",
              "       [ 44.22267555],\n",
              "       [ 44.25316412],\n",
              "       [ 44.26459734],\n",
              "       [ 44.56186089],\n",
              "       [ 44.58853839],\n",
              "       [ 44.62283803],\n",
              "       [ 44.6533266 ],\n",
              "       [ 78.49182808],\n",
              "       [ 78.57186057],\n",
              "       [ 78.8462577 ],\n",
              "       [ 78.85006877],\n",
              "       [ 78.90342377],\n",
              "       [ 79.22355375],\n",
              "       [ 79.25023125],\n",
              "       [ 79.29215304],\n",
              "       [ 79.29977518],\n",
              "       [ 79.64658266],\n",
              "       [ 79.66182695],\n",
              "       [ 79.66944909],\n",
              "       [ 79.67326016],\n",
              "       [ 79.67707123],\n",
              "       [ 79.70374873],\n",
              "       [ 79.98957907],\n",
              "       [ 80.04293407],\n",
              "       [ 80.06198943],\n",
              "       [ 80.09628907],\n",
              "       [ 80.38593048],\n",
              "       [ 80.40498584],\n",
              "       [ 80.41641905],\n",
              "       [ 80.43928548],\n",
              "       [ 80.81277046],\n",
              "       [ 80.83563689],\n",
              "       [ 81.15576687],\n",
              "       [ 81.22817722],\n",
              "       [ 81.24342151],\n",
              "       [ 81.52925185],\n",
              "       [ 81.57117363],\n",
              "       [ 81.90273683],\n",
              "       [ 81.91798112],\n",
              "       [ 81.92179219],\n",
              "       [ 81.95228076],\n",
              "       [ 81.97133611],\n",
              "       [ 81.97895826],\n",
              "       [ 82.32957681],\n",
              "       [ 82.37149859],\n",
              "       [ 82.72592822],\n",
              "       [ 82.7411725 ],\n",
              "       [116.59491826],\n",
              "       [116.61016255],\n",
              "       [116.63684005],\n",
              "       [116.97983646],\n",
              "       [116.99508074],\n",
              "       [117.02175824],\n",
              "       [117.03319145],\n",
              "       [117.04843574],\n",
              "       [117.35713251],\n",
              "       [117.42573179],\n",
              "       [117.42954286],\n",
              "       [117.437165  ],\n",
              "       [117.71918428],\n",
              "       [117.72680642],\n",
              "       [117.74586177],\n",
              "       [117.75729499],\n",
              "       [117.77635034],\n",
              "       [117.78016142],\n",
              "       [118.11934676],\n",
              "       [118.1536464 ],\n",
              "       [118.20700139],\n",
              "       [118.49283174],\n",
              "       [118.51188709],\n",
              "       [118.51950923],\n",
              "       [118.52332031],\n",
              "       [118.52713138],\n",
              "       [118.53856459],\n",
              "       [118.91204957],\n",
              "       [118.95397135],\n",
              "       [119.24361277],\n",
              "       [119.25504598],\n",
              "       [119.26266812],\n",
              "       [119.2664792 ],\n",
              "       [119.27029027],\n",
              "       [119.30840098],\n",
              "       [119.31602312],\n",
              "       [119.33888955],\n",
              "       [119.63234203],\n",
              "       [119.63615311],\n",
              "       [119.65520846],\n",
              "       [119.68569703],\n",
              "       [119.6895081 ],\n",
              "       [119.70856346],\n",
              "       [119.71999667],\n",
              "       [119.73142989],\n",
              "       [120.00963809],\n",
              "       [120.08204844],\n",
              "       [120.42123378],\n",
              "       [120.44791128],\n",
              "       [120.45172235],\n",
              "       [120.77185233],\n",
              "       [120.77947448],\n",
              "       [120.80615197],\n",
              "       [120.83282947],\n",
              "       [120.87475126],\n",
              "       [154.73611916],\n",
              "       [154.78185201],\n",
              "       [155.09817093],\n",
              "       [155.10579307],\n",
              "       [155.15152592],\n",
              "       [155.16295914],\n",
              "       [155.45641162],\n",
              "       [155.48690019],\n",
              "       [155.49071126],\n",
              "       [155.49452233],\n",
              "       [155.82608553],\n",
              "       [155.86038517],\n",
              "       [155.86419624],\n",
              "       [155.87944053],\n",
              "       [155.8832516 ],\n",
              "       [155.91755124],\n",
              "       [155.92898445],\n",
              "       [156.22243694],\n",
              "       [156.25292551],\n",
              "       [156.26435872],\n",
              "       [156.27960301],\n",
              "       [156.30628051],\n",
              "       [156.59211085],\n",
              "       [156.68357656],\n",
              "       [156.97321797],\n",
              "       [157.01895083],\n",
              "       [157.02657297],\n",
              "       [157.0494394 ],\n",
              "       [157.06087261],\n",
              "       [157.39624688],\n",
              "       [157.41911331],\n",
              "       [157.44197973],\n",
              "       [157.44579081],\n",
              "       [157.73924329],\n",
              "       [157.76973186],\n",
              "       [157.82689793],\n",
              "       [157.83833114],\n",
              "       [158.1889497 ],\n",
              "       [158.19657184],\n",
              "       [158.51670182],\n",
              "       [158.53956825],\n",
              "       [158.55481253],\n",
              "       [158.55862361],\n",
              "       [158.57005682],\n",
              "       [158.87494252],\n",
              "       [158.87875359],\n",
              "       [158.98546358],\n",
              "       [192.86969791],\n",
              "       [192.87350898],\n",
              "       [192.89256434],\n",
              "       [193.18601683],\n",
              "       [193.19363897],\n",
              "       [193.25842718],\n",
              "       [193.26604932],\n",
              "       [193.56331288],\n",
              "       [193.57093502],\n",
              "       [193.58999038],\n",
              "       [193.64715644],\n",
              "       [193.94060893],\n",
              "       [193.9710975 ],\n",
              "       [193.99396393],\n",
              "       [194.01301928],\n",
              "       [194.0244525 ],\n",
              "       [194.42461498],\n",
              "       [194.7523671 ],\n",
              "       [194.75617817],\n",
              "       [194.76380032],\n",
              "       [195.09917458],\n",
              "       [195.10679673],\n",
              "       [195.14109637],\n",
              "       [195.48028171],\n",
              "       [195.49933706],\n",
              "       [195.50314814],\n",
              "       [195.52220349],\n",
              "       [195.53744778],\n",
              "       [195.56412527],\n",
              "       [195.89568847],\n",
              "       [195.89949954],\n",
              "       [195.90331061],\n",
              "       [195.9185549 ],\n",
              "       [195.92998811],\n",
              "       [196.23868488],\n",
              "       [196.26917345],\n",
              "       [196.29203988],\n",
              "       [196.29966202],\n",
              "       [196.63884736],\n",
              "       [196.65028058],\n",
              "       [196.69220236],\n",
              "       [197.01614341],\n",
              "       [230.91562203],\n",
              "       [230.9194331 ],\n",
              "       [230.92324417],\n",
              "       [230.9461106 ],\n",
              "       [231.28910701],\n",
              "       [231.31578451],\n",
              "       [231.31959558],\n",
              "       [231.36532843],\n",
              "       [231.38057272],\n",
              "       [231.66640306],\n",
              "       [231.6740252 ],\n",
              "       [231.68926949],\n",
              "       [231.74262449],\n",
              "       [231.76930199],\n",
              "       [231.7807352 ],\n",
              "       [232.04751019],\n",
              "       [232.06656554],\n",
              "       [232.08943197],\n",
              "       [232.09324304],\n",
              "       [232.12373161],\n",
              "       [232.1389759 ],\n",
              "       [232.14278697],\n",
              "       [232.46672802],\n",
              "       [232.48959445],\n",
              "       [232.51246088],\n",
              "       [232.86307943],\n",
              "       [232.90881228],\n",
              "       [233.20988691],\n",
              "       [233.23275334],\n",
              "       [233.24418655],\n",
              "       [233.28991941],\n",
              "       [233.29373048],\n",
              "       [233.57193868],\n",
              "       [233.61004939],\n",
              "       [233.62910475],\n",
              "       [233.65959332],\n",
              "       [233.66340439],\n",
              "       [233.68627082],\n",
              "       [234.01021187],\n",
              "       [234.02545616],\n",
              "       [234.06356687],\n",
              "       [234.37226364],\n",
              "       [234.40656328],\n",
              "       [235.17639967],\n",
              "       [269.0339565 ],\n",
              "       [269.04538971],\n",
              "       [269.10255578],\n",
              "       [269.12542221],\n",
              "       [269.39600827],\n",
              "       [269.40363041],\n",
              "       [269.49509612],\n",
              "       [269.49890719],\n",
              "       [269.83047039],\n",
              "       [269.83428146],\n",
              "       [269.83809253],\n",
              "       [269.88382538],\n",
              "       [270.1734668 ],\n",
              "       [270.17727787],\n",
              "       [270.22682179],\n",
              "       [270.25349929],\n",
              "       [270.54314071],\n",
              "       [270.60411785],\n",
              "       [270.61936213],\n",
              "       [270.65366177],\n",
              "       [270.95092533],\n",
              "       [270.99665818],\n",
              "       [271.03095782],\n",
              "       [271.33584352],\n",
              "       [271.33965459],\n",
              "       [271.34727674],\n",
              "       [271.37776531],\n",
              "       [271.39682066],\n",
              "       [271.40444281],\n",
              "       [271.41587602],\n",
              "       [271.69027315],\n",
              "       [271.75887243],\n",
              "       [271.7626835 ],\n",
              "       [271.79317207],\n",
              "       [271.79698314],\n",
              "       [272.10567991],\n",
              "       [272.14379062],\n",
              "       [272.15903491],\n",
              "       [272.17046812],\n",
              "       [272.44867632],\n",
              "       [272.82978345],\n",
              "       [272.8488388 ],\n",
              "       [272.85264987],\n",
              "       [272.91362701],\n",
              "       [272.92506023],\n",
              "       [272.9288713 ],\n",
              "       [272.93268237],\n",
              "       [273.25662342],\n",
              "       [273.27186771],\n",
              "       [307.20564597],\n",
              "       [307.52577595],\n",
              "       [307.56007559],\n",
              "       [307.56388666],\n",
              "       [307.57913095],\n",
              "       [307.58675309],\n",
              "       [307.60580845],\n",
              "       [307.903072  ],\n",
              "       [307.94499378],\n",
              "       [307.96023807],\n",
              "       [307.9831045 ],\n",
              "       [307.99453771],\n",
              "       [308.30323448],\n",
              "       [308.65004196],\n",
              "       [308.65766411],\n",
              "       [308.66147518],\n",
              "       [308.67290839],\n",
              "       [308.67671946],\n",
              "       [308.68053053],\n",
              "       [308.7110191 ],\n",
              "       [308.71483017],\n",
              "       [308.7643741 ],\n",
              "       [309.10737051],\n",
              "       [309.11118158],\n",
              "       [309.12642587],\n",
              "       [309.13785908],\n",
              "       [309.44274478],\n",
              "       [309.45417799],\n",
              "       [309.46942228],\n",
              "       [309.48466656],\n",
              "       [309.50372192],\n",
              "       [309.50753299],\n",
              "       [309.51134406],\n",
              "       [309.89626226],\n",
              "       [309.9038844 ],\n",
              "       [309.90769547],\n",
              "       [310.19352581],\n",
              "       [310.21258117],\n",
              "       [310.25069188],\n",
              "       [310.26593617],\n",
              "       [310.26974724],\n",
              "       [310.27736938],\n",
              "       [310.56701079],\n",
              "       [310.59749936],\n",
              "       [310.60893258],\n",
              "       [310.61655472],\n",
              "       [310.62417686],\n",
              "       [310.66609864],\n",
              "       [310.9366847 ],\n",
              "       [310.9633622 ],\n",
              "       [310.96717327],\n",
              "       [310.98241756],\n",
              "       [311.01290613],\n",
              "       [311.04720577],\n",
              "       [311.35590254],\n",
              "       [345.24775901],\n",
              "       [345.31635829],\n",
              "       [345.32398044],\n",
              "       [345.61743292],\n",
              "       [345.64411042],\n",
              "       [345.65554363],\n",
              "       [345.7127097 ],\n",
              "       [345.72033184],\n",
              "       [345.99854004],\n",
              "       [346.0175954 ],\n",
              "       [346.07476147],\n",
              "       [346.10143897],\n",
              "       [346.41013574],\n",
              "       [346.43300216],\n",
              "       [346.83316464],\n",
              "       [346.84840893],\n",
              "       [347.15329463],\n",
              "       [347.1571057 ],\n",
              "       [347.17616105],\n",
              "       [347.1837832 ],\n",
              "       [347.18759427],\n",
              "       [347.24094927],\n",
              "       [347.52677961],\n",
              "       [347.57632353],\n",
              "       [347.58775675],\n",
              "       [347.60300103],\n",
              "       [347.61443425],\n",
              "       [347.62967853],\n",
              "       [347.92313102],\n",
              "       [347.94980851],\n",
              "       [347.97648601],\n",
              "       [347.98029708],\n",
              "       [347.98410816],\n",
              "       [348.29280493],\n",
              "       [348.35378207],\n",
              "       [348.35759314],\n",
              "       [348.38045956],\n",
              "       [348.38427064],\n",
              "       [348.66628991],\n",
              "       [348.70058955],\n",
              "       [348.7463224 ],\n",
              "       [348.75394454],\n",
              "       [348.75775562],\n",
              "       [348.78062204],\n",
              "       [349.06264131],\n",
              "       [349.07026346],\n",
              "       [349.11218524],\n",
              "       [349.11599631],\n",
              "       [349.12361845],\n",
              "       [349.12742953],\n",
              "       [349.14648488],\n",
              "       [349.43993737],\n",
              "       [349.47423701],\n",
              "       [349.49329236],\n",
              "       [349.49710344],\n",
              "       [349.51615879],\n",
              "       [383.40420419],\n",
              "       [383.42325955],\n",
              "       [383.42707062]])"
            ]
          },
          "metadata": {
            "tags": []
          },
          "execution_count": 180
        }
      ]
    },
    {
      "cell_type": "code",
      "metadata": {
        "id": "uqc4M6SvMhrN",
        "colab_type": "code",
        "colab": {
          "base_uri": "https://localhost:8080/",
          "height": 34
        },
        "outputId": "d3e82cfe-31f7-4571-cb9e-0449667769fa"
      },
      "source": [
        "print('The r2_score for the given is :',r2_score(ans,testy))"
      ],
      "execution_count": 181,
      "outputs": [
        {
          "output_type": "stream",
          "text": [
            "The r2_score for the given is : 0.7463156713726686\n"
          ],
          "name": "stdout"
        }
      ]
    },
    {
      "cell_type": "code",
      "metadata": {
        "id": "Esv47LysMr2h",
        "colab_type": "code",
        "colab": {}
      },
      "source": [
        ""
      ],
      "execution_count": 0,
      "outputs": []
    },
    {
      "cell_type": "markdown",
      "metadata": {
        "id": "sqyaTwa8MvN_",
        "colab_type": "text"
      },
      "source": [
        "Now please Enter the dates and the program will tell you the opening stock prices:"
      ]
    },
    {
      "cell_type": "code",
      "metadata": {
        "id": "iamCmNk7M0uR",
        "colab_type": "code",
        "colab": {
          "base_uri": "https://localhost:8080/",
          "height": 67
        },
        "outputId": "a57d71c0-9e53-4c94-df6c-306dda3efdf0"
      },
      "source": [
        "x=input('Please enter the date in the format(yyyy-mm-dd)')\n",
        "y=x.split('-')\n",
        "y=y[0]+y[1]+y[2]\n",
        "print(y)\n",
        "y=int(y)\n",
        "print('The expected opening value of the stock prices is:',regr.predict([[y]]))"
      ],
      "execution_count": 182,
      "outputs": [
        {
          "output_type": "stream",
          "text": [
            "Please enter the date in the format(yyyy-mm-dd)2010-06-30\n",
            "20100630\n",
            "The expected opening value of the stock prices is: [[4.25597154]]\n"
          ],
          "name": "stdout"
        }
      ]
    },
    {
      "cell_type": "code",
      "metadata": {
        "id": "crT6ZcrjNPxY",
        "colab_type": "code",
        "colab": {}
      },
      "source": [
        ""
      ],
      "execution_count": 0,
      "outputs": []
    }
  ]
}